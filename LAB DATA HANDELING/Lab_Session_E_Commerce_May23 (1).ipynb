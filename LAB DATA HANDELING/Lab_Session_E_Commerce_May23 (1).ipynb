{
 "cells": [
  {
   "cell_type": "markdown",
   "id": "2c8f47d3",
   "metadata": {
    "id": "2c8f47d3"
   },
   "source": [
    "# Lab Session"
   ]
  },
  {
   "cell_type": "markdown",
   "id": "f637aba6",
   "metadata": {
    "id": "f637aba6"
   },
   "source": [
    "## <font color='blue'> Table Of Contents </font>\n",
    "- Problem Statement\n",
    "- Load required libraries\n",
    "- Connect to DB using mysql-connector-python package\n",
    "- Create database named `e_commerce`\n",
    "- Create tables and insert data into tables as specified in the question\n",
    "- Read all the questions and write sql queries to meet the objective"
   ]
  },
  {
   "cell_type": "markdown",
   "id": "1073fc90",
   "metadata": {
    "id": "1073fc90"
   },
   "source": [
    "## <font color='blue'> Problem Statement </font>\n",
    "###  An E-commerce website manages its data in the form of various tables.\n",
    "You need to create a Database called `e_commerce` and various tables in it. The tables needed and attributes which need to be in every table are given before hand. All you have to do is create tables with data in it and answer some of the questions that follows."
   ]
  },
  {
   "cell_type": "markdown",
   "id": "d9abe6c7",
   "metadata": {
    "id": "d9abe6c7"
   },
   "source": [
    "### Load Required Libraries"
   ]
  },
  {
   "cell_type": "code",
   "execution_count": 1,
   "id": "0178d08e",
   "metadata": {
    "id": "0178d08e"
   },
   "outputs": [],
   "source": [
    "import mysql.connector"
   ]
  },
  {
   "cell_type": "markdown",
   "id": "d7d7fd5c",
   "metadata": {
    "id": "d7d7fd5c"
   },
   "source": [
    "### Connect to DB using Mysql-connector-python package"
   ]
  },
  {
   "cell_type": "code",
   "execution_count": 2,
   "id": "ef7bef72",
   "metadata": {
    "id": "ef7bef72"
   },
   "outputs": [],
   "source": [
    "remoteVar= mysql.connector.connect(\n",
    "    host= \"localhost\",\n",
    "    username= \"root\",\n",
    "    password= \"Asdfgh@12345\"\n",
    ")\n",
    "cursorVar= remoteVar.cursor();"
   ]
  },
  {
   "cell_type": "markdown",
   "id": "9d55e510",
   "metadata": {
    "id": "9d55e510"
   },
   "source": [
    "### You are required to create a database named 'e_commerce'"
   ]
  },
  {
   "cell_type": "code",
   "execution_count": 3,
   "id": "42a154f2",
   "metadata": {
    "id": "42a154f2"
   },
   "outputs": [],
   "source": [
    "cursorVar.execute(\"create database if not exists lab_data_handeling\")"
   ]
  },
  {
   "cell_type": "code",
   "execution_count": 4,
   "id": "522e9883-03ae-4a76-b095-6414abed5030",
   "metadata": {},
   "outputs": [],
   "source": [
    "cursorVar.close()\n",
    "remoteVar.close()"
   ]
  },
  {
   "cell_type": "markdown",
   "id": "480dc986",
   "metadata": {
    "id": "480dc986"
   },
   "source": [
    "### Q1. Create tables for supplier, customer, category, product, productDetails, order, rating to store the data for the E-commerce with the schema definition given below.\n",
    "\n",
    "\n",
    "- **`supplier`**(SUPP_ID int primary key, SUPP_NAME varchar(50), SUPP_CITY varchar(50), SUPP_PHONE varchar(10))\n",
    "\n",
    "\n",
    "- **`customer`** (CUS_ID INT NOT NULL, CUS_NAME VARCHAR(20) NULL DEFAULT NULL, CUS_PHONE VARCHAR(10), CUS_CITY varchar(30) ,CUS_GENDER CHAR,PRIMARY KEY (CUS_ID))\n",
    "\n",
    "\n",
    "- **`category`** (CAT_ID INT NOT NULL, CAT_NAME VARCHAR(20) NULL DEFAULT NULL,PRIMARY KEY (CAT_ID))\n",
    "\n",
    "\n",
    "- **`product`** (PRO_ID INT NOT NULL, PRO_NAME VARCHAR(20) NULL DEFAULT NULL, PRO_DESC VARCHAR(60) NULL DEFAULT NULL, CAT_ID INT NOT NULL,PRIMARY KEY (PRO_ID),FOREIGN KEY (CAT_ID) REFERENCES CATEGORY (CAT_ID))\n",
    "\n",
    "\n",
    "- **`product_details`** (PROD_ID INT NOT NULL, PRO_ID INT NOT NULL, SUPP_ID INT NOT NULL, PROD_PRICE INT NOT NULL,\n",
    "  PRIMARY KEY (PROD_ID),FOREIGN KEY (PRO_ID) REFERENCES PRODUCT (PRO_ID), FOREIGN KEY (SUPP_ID) REFERENCES SUPPLIER(SUPP_ID))\n",
    "  \n",
    "  \n",
    "- **`order`** (ORD_ID INT NOT NULL, ORD_AMOUNT INT NOT NULL, ORD_DATE DATE, CUS_ID INT NOT NULL, PROD_ID INT NOT NULL,PRIMARY KEY (ORD_ID),FOREIGN KEY (CUS_ID) REFERENCES CUSTOMER(CUS_ID),FOREIGN KEY (PROD_ID) REFERENCES PRODUCT_DETAILS(PROD_ID))\n",
    "\n",
    "\n",
    "- **`rating`** (RAT_ID INT NOT NULL, CUS_ID INT NOT NULL, SUPP_ID INT NOT NULL, RAT_RATSTARS INT NOT NULL,PRIMARY KEY (RAT_ID),FOREIGN KEY (SUPP_ID) REFERENCES SUPPLIER (SUPP_ID),FOREIGN KEY (CUS_ID) REFERENCES CUSTOMER(CUS_ID))"
   ]
  },
  {
   "cell_type": "code",
   "execution_count": 5,
   "id": "967b718f",
   "metadata": {
    "id": "967b718f"
   },
   "outputs": [],
   "source": [
    "remoteVar= mysql.connector.connect(\n",
    "    host=\"localhost\",\n",
    "    username=\"root\",\n",
    "    password= \"Asdfgh@12345\",\n",
    "database= \"lab_data_handeling\"\n",
    ")\n",
    "cursorVar= remoteVar.cursor();"
   ]
  },
  {
   "cell_type": "code",
   "execution_count": 6,
   "id": "f014cadb-bceb-4264-b3cf-b1cef911bfe1",
   "metadata": {},
   "outputs": [],
   "source": [
    "createTab1 = \"\"\"\n",
    "CREATE TABLE IF NOT EXISTS `supplier` (\n",
    "    SUPP_ID INT PRIMARY KEY, \n",
    "    SUPP_NAME VARCHAR(50), \n",
    "    SUPP_CITY VARCHAR(50), \n",
    "    SUPP_PHONE VARCHAR(10)\n",
    ");\"\"\"\n",
    "\n",
    "createTab2 = \"\"\"CREATE TABLE IF NOT EXISTS `customer` (\n",
    "    CUS_ID INT NOT NULL, \n",
    "    CUS_NAME VARCHAR(20) NULL DEFAULT NULL, \n",
    "    CUS_PHONE VARCHAR(10),\n",
    "    CUS_CITY VARCHAR(30), \n",
    "    CUS_GENDER CHAR,\n",
    "    PRIMARY KEY (CUS_ID)\n",
    ");\"\"\"\n",
    "\n",
    "createTab3 = \"\"\"CREATE TABLE IF NOT EXISTS `category` (\n",
    "    CAT_ID INT NOT NULL, \n",
    "    CAT_NAME VARCHAR(20) NULL DEFAULT NULL,\n",
    "    PRIMARY KEY (CAT_ID)\n",
    ");\"\"\"\n",
    "\n",
    "createTab4 = \"\"\"CREATE TABLE IF NOT EXISTS `product` (\n",
    "    PRO_ID INT NOT NULL, \n",
    "    PRO_NAME VARCHAR(20) NULL DEFAULT NULL, \n",
    "    PRO_DESC VARCHAR(60) NULL DEFAULT NULL, \n",
    "    CAT_ID INT NOT NULL,\n",
    "    PRIMARY KEY (PRO_ID),\n",
    "    FOREIGN KEY (CAT_ID) REFERENCES `category` (CAT_ID)\n",
    ");\"\"\"\n",
    "\n",
    "createTab5 = \"\"\"CREATE TABLE IF NOT EXISTS `product_details` (\n",
    "    PROD_ID INT NOT NULL, \n",
    "    PRO_ID INT NOT NULL, \n",
    "    SUPP_ID INT NOT NULL, \n",
    "    PROD_PRICE INT NOT NULL,\n",
    "    PRIMARY KEY (PROD_ID),\n",
    "    FOREIGN KEY (PRO_ID) REFERENCES `product` (PRO_ID),\n",
    "    FOREIGN KEY (SUPP_ID) REFERENCES `supplier` (SUPP_ID)\n",
    ");\"\"\"\n",
    "\n",
    "createTab6 = \"\"\"CREATE TABLE IF NOT EXISTS `orders` (\n",
    "    ORD_ID INT NOT NULL, \n",
    "    ORD_AMOUNT INT NOT NULL, \n",
    "    ORD_DATE DATE, \n",
    "    CUS_ID INT NOT NULL, \n",
    "    PROD_ID INT NOT NULL,\n",
    "    PRIMARY KEY (ORD_ID),\n",
    "    FOREIGN KEY (CUS_ID) REFERENCES `customer` (CUS_ID),\n",
    "    FOREIGN KEY (PROD_ID) REFERENCES `product_details` (PROD_ID)\n",
    ");\"\"\"\n",
    "\n",
    "createTab7 = \"\"\"CREATE TABLE IF NOT EXISTS `rating` (\n",
    "    RAT_ID INT NOT NULL, \n",
    "    CUS_ID INT NOT NULL, \n",
    "    SUPP_ID INT NOT NULL, \n",
    "    RAT_RATSTARS INT NOT NULL,\n",
    "    PRIMARY KEY (RAT_ID),\n",
    "    FOREIGN KEY (SUPP_ID) REFERENCES `supplier` (SUPP_ID),\n",
    "    FOREIGN KEY (CUS_ID) REFERENCES `customer` (CUS_ID)\n",
    ");\"\"\"\n",
    "\n",
    "cursorVar.execute(createTab1)\n",
    "cursorVar.execute(createTab2)\n",
    "cursorVar.execute(createTab3)\n",
    "cursorVar.execute(createTab4)\n",
    "cursorVar.execute(createTab5)\n",
    "cursorVar.execute(createTab6)\n",
    "cursorVar.execute(createTab7)\n",
    "remoteVar.commit()\n"
   ]
  },
  {
   "cell_type": "code",
   "execution_count": 7,
   "id": "e7085dca-0c98-4d3f-9822-6b96a0d6aeef",
   "metadata": {},
   "outputs": [],
   "source": [
    "cursorVar.close()\n",
    "remoteVar.close()"
   ]
  },
  {
   "cell_type": "markdown",
   "id": "1f653731",
   "metadata": {
    "id": "1f653731"
   },
   "source": [
    "### Q2. Insert the following data in the table created above\n",
    "#### `Note:` If you are getting any error while inserting the data into tables, Kindly close the connection and reconnect\n",
    "\n",
    "#### Table:  supplier\n",
    "| SUPP_ID | SUPP_NAME | SUPP_CITY | SUPP_PHONE |\n",
    "| --- | --- | --- | --- |\n",
    "| 1 | Rajesh Retails | Delhi | 1234567890 |\n",
    "| 2 | Appario Ltd. | Mumbai | 258963147032 |\n",
    "| 3 | Knome products | Bangalore | 9785462315 |\n",
    "| 4 | Bansal Retails | Kochi | 8975463285 |\n",
    "| 5 | Mittal Ltd. | Lucknow | 7898456532 |"
   ]
  },
  {
   "cell_type": "code",
   "execution_count": 8,
   "id": "85d6e7f5-ce5e-4044-ac62-214b05456bc8",
   "metadata": {},
   "outputs": [],
   "source": [
    "remoteVar= mysql.connector.connect(\n",
    "    host=\"localhost\",\n",
    "    username=\"root\",\n",
    "    password= \"Asdfgh@12345\",\n",
    "database= \"lab_data_handeling\"\n",
    ")\n",
    "cursorVar= remoteVar.cursor();"
   ]
  },
  {
   "cell_type": "code",
   "execution_count": 9,
   "id": "f6dddd07",
   "metadata": {
    "id": "f6dddd07"
   },
   "outputs": [],
   "source": [
    "# insert into \"supplier\" table\n",
    "\n",
    "insertDetails = \"insert Into supplier (SUPP_ID, SUPP_NAME, SUPP_CITY, SUPP_PHONE) VALUES (%s, %s, %s, %s)\"\n",
    "data = [(1,\"Rajesh Retails\",\"Delhi\",'1234567890'),\n",
    "       (2,\"Appario Ltd.\",\"Mumbai\",'2589631470'),\n",
    "       (3,\"Knome products\",\"Banglore\",'9785462315'),\n",
    "       (4,\"Bansal Retails\",\"Kochi\",'8975463285'),\n",
    "       (5,\"Mittal Ltd.\",\"Lucknow\",'7898456532')]\n",
    "\n",
    "   \n",
    "cursorVar.executemany(insertDetails, data)\n",
    "remoteVar.commit()\n"
   ]
  },
  {
   "cell_type": "markdown",
   "id": "e8a070a6",
   "metadata": {
    "id": "e8a070a6"
   },
   "source": [
    "#### Table:  customer\n",
    "| CUS_ID | CUS_NAME | SUPP_PHONE | CUS_CITY | CUS_GENDER\n",
    "| --- | --- | --- | --- | --- |\n",
    "| 1 | AAKASH | 9999999999 | DELHI | M |\n",
    "| 2 | AMAN | 9785463215 | NOIDA | M |\n",
    "| 3 | NEHA | 9999999998 | MUMBAI | F |\n",
    "| 4 | MEGHA | 9994562399 | KOLKATA | F |\n",
    "| 5 | PULKIT | 7895999999 | LUCKNOW | M |"
   ]
  },
  {
   "cell_type": "code",
   "execution_count": 10,
   "id": "15a4ee87",
   "metadata": {
    "id": "15a4ee87"
   },
   "outputs": [],
   "source": [
    "# insert into \"customer\" table\n",
    "\n",
    "insertDetails=\"insert into customer (CUS_ID, CUS_NAME,CUS_PHONE, CUS_CITY, CUS_GENDER) VALUES(%s,%s,%s,%s,%s)\";\n",
    "data=[(1,\"AAKASH\",'9999999999',\"DELHI\",'M'),\n",
    "       (2,\"AMAN\",'9785463215',\"NOIDA\",'M'),\n",
    "       (3,\"NEHA\",'9999999999',\"MUMBAI\",'F'),\n",
    "       (4,\"MEGHA\",'9994562399',\"KOLKATA\",'F'),\n",
    "       (5,\"PULKIT\",'7895999999',\"LUCKNOW\",'M')]\n",
    "\n",
    "cursorVar.executemany(insertDetails,data);\n",
    "remoteVar.commit();\n",
    "\n",
    "\n"
   ]
  },
  {
   "cell_type": "markdown",
   "id": "b68bfbc2",
   "metadata": {
    "id": "b68bfbc2"
   },
   "source": [
    "#### Table:  category\n",
    "| CAT_ID | CAT_NAME |\n",
    "| --- | --- |  \n",
    "| 1 | BOOKS |\n",
    "| 2 | GAMES |  \n",
    "| 3 | GROCERIES |\n",
    "| 4 | ELECTRONICS |\n",
    "| 5 | CLOTHES |"
   ]
  },
  {
   "cell_type": "code",
   "execution_count": 11,
   "id": "05a00abc",
   "metadata": {
    "id": "05a00abc"
   },
   "outputs": [],
   "source": [
    "# insert into \"categoty\" table\n",
    "insertDetails=\"insert into category (CAT_ID, CAT_NAME) VALUES(%s,%s)\"\n",
    "data=[(1,\"BOOKS\"),\n",
    "       (2,\"GAMES\"),\n",
    "       (3,\"GROCERIES\"),\n",
    "       (4,\"ELECTRONICS\"),\n",
    "       (5,\"CLOTHES\")]\n",
    "cursorVar.executemany(insertDetails,data);\n",
    "remoteVar.commit();\n"
   ]
  },
  {
   "cell_type": "markdown",
   "id": "eb3bc592",
   "metadata": {
    "id": "eb3bc592"
   },
   "source": [
    "#### Table:  product\n",
    "| PRO_ID | PRO_NAME | PRO_DESC | CAT_ID |\n",
    "| --- | --- | --- | --- |\n",
    "| 1 | GTA V | DFJDJFDJFDJFDJFJF | 2 |\n",
    "| 2 | TSHIRT | DFDFJDFJDKFD | 5 |\n",
    "| 3 | ROG LAPTOP | DFNTTNTNTERND | 4 |\n",
    "| 4 | OATS | REURENTBTOTH | 3 |\n",
    "| 5 | HARRY POTTER | NBEMCTHTJTH | 1 |\n"
   ]
  },
  {
   "cell_type": "code",
   "execution_count": 12,
   "id": "cdfbdfad",
   "metadata": {
    "id": "cdfbdfad"
   },
   "outputs": [],
   "source": [
    "# insert into \"product\" table\n",
    "insertDetails=\"insert into product (PRO_ID, PRO_NAME, PRO_DESC, CAT_ID) VALUES (%s,%s,%s,%s)\"\n",
    "data=[(1,\"GTA V\",\"DFJDJFDJFDJFDJFJF\",2),\n",
    "       (2,\"TSHIRT\",\"DFDFJDFJDKFD\",5),\n",
    "       (3,\"ROG LAPTOP\",\"DFNTTNTNTERND\",4),\n",
    "       (4,\"OATS\",\"REURENTBTOTH\",3),\n",
    "       (5,\"HARRY POTTER\",\"NBEMCTHTJTH\",1)]\n",
    "cursorVar.executemany(insertDetails,data)\n",
    "remoteVar.commit()\n",
    "\n"
   ]
  },
  {
   "cell_type": "markdown",
   "id": "cfa8a47d",
   "metadata": {
    "id": "cfa8a47d"
   },
   "source": [
    "#### Table:  product_details\n",
    "| PROD_ID | PRO_ID | SUPP_ID | PROD_PRICE |\n",
    "| --- | --- | --- | --- |\n",
    "| 1 | 1 | 2 | 1500 |\n",
    "| 2 | 3 | 5 | 30000 |\n",
    "| 3 | 5 | 1 | 3000 |\n",
    "| 4 | 2 | 3 | 2500 |\n",
    "| 5 | 4 | 1 | 1000 |"
   ]
  },
  {
   "cell_type": "code",
   "execution_count": 13,
   "id": "c18ea964",
   "metadata": {
    "id": "c18ea964"
   },
   "outputs": [],
   "source": [
    "# insert into \"product_details\" table\n",
    "insertDetails=\"insert into product_details (PROD_ID, PRO_ID, SUPP_ID, PROD_PRICE) VALUES (%s, %s, %s, %s)\";\n",
    "data=[(1,1,2,1500),\n",
    "       (2,3,5,30000),\n",
    "       (3,5,1,3000),\n",
    "       (4,2,3,2500),\n",
    "       (5,4,1,1000)];\n",
    "cursorVar.executemany(insertDetails, data)\n",
    "remoteVar.commit()"
   ]
  },
  {
   "cell_type": "markdown",
   "id": "1df49086",
   "metadata": {
    "id": "1df49086"
   },
   "source": [
    "#### Table:  orders\n",
    "| ORD_ID | ORD_AMOUNT | ORD_DATE | CUS_ID | PROD_ID\n",
    "| --- | --- | --- | --- | --- |\n",
    "| 20 | 1500 | 2021-10-12 | 3 | 5 |\n",
    "| 25 | 30500 | 2021-09-16 | 5 | 2 |\n",
    "| 26 | 2000 | 2021-10-05 | 1 | 1 |\n",
    "| 30 | 3500 | 2021-08-16 | 4 | 3 |\n",
    "| 50 | 2000 | 2021-10-06 | 2 | 1 |"
   ]
  },
  {
   "cell_type": "code",
   "execution_count": 14,
   "id": "0d97dc92",
   "metadata": {
    "id": "0d97dc92"
   },
   "outputs": [],
   "source": [
    "# insert into \"orders\" table\n",
    "insertDetails= \"INSERT INTO orders (ORD_ID, ORD_AMOUNT, ORD_DATE, CUS_ID, PROD_ID) VALUES (%s, %s, %s, %s, %s)\"\n",
    "data = [(20,1500,\"2021-10-12\",3,5),\n",
    "       (25,30500,\"2021-09-16\",5,2),\n",
    "       (26,2000,\"2021-10-05\",1,1),\n",
    "       (30,3500,\"2021-08-16\",4,3),\n",
    "       (50,2000,\"2021-10-06\",2,1)]\n",
    "\n",
    "\n",
    "cursorVar.executemany(insertDetails, data)\n",
    "remoteVar.commit()  "
   ]
  },
  {
   "cell_type": "markdown",
   "id": "75b8ce5f",
   "metadata": {
    "id": "75b8ce5f"
   },
   "source": [
    "#### Table: rating\n",
    "| RAT_ID | CUS_ID | SUPP_ID | RAT_RATSTARS |\n",
    "| --- | --- | --- | --- |\n",
    "| 1 | 2 | 2 | 4 |\n",
    "| 2 | 3 | 4 | 3 |\n",
    "| 3 | 5 | 1 | 5 |\n",
    "| 4 | 1 | 3 | 2 |\n",
    "| 5 | 4 | 5 | 4 |"
   ]
  },
  {
   "cell_type": "code",
   "execution_count": 15,
   "id": "6d5f1e18",
   "metadata": {
    "id": "6d5f1e18"
   },
   "outputs": [],
   "source": [
    "# insert into \"rating\" table\n",
    "insertDetails= \"insert into rating (RAT_ID, CUS_ID, SUPP_ID, RAT_RATSTARS) VALUES (%s, %s, %s, %s)\"\n",
    "\n",
    "data=[(1,2,2,4),\n",
    "      (2,3,4,3),\n",
    "      (3,5,1,5),\n",
    "      (4,1,3,2),\n",
    "      (5,4,5,4)]\n",
    "\n",
    "cursorVar.executemany(insertDetails, data)\n",
    "remoteVar.commit()"
   ]
  },
  {
   "cell_type": "markdown",
   "id": "b59361c3",
   "metadata": {
    "id": "b59361c3"
   },
   "source": [
    "### Q3) Display the number of the customer group by their genders who have placed any order of amount greater than or equal to Rs.3000."
   ]
  },
  {
   "cell_type": "code",
   "execution_count": 16,
   "id": "fcafaf3c",
   "metadata": {
    "id": "fcafaf3c"
   },
   "outputs": [],
   "source": [
    "import pandas as pd;"
   ]
  },
  {
   "cell_type": "code",
   "execution_count": 17,
   "id": "957d8e28-4695-4667-b645-eee2af55b32b",
   "metadata": {},
   "outputs": [
    {
     "data": {
      "text/html": [
       "<div>\n",
       "<style scoped>\n",
       "    .dataframe tbody tr th:only-of-type {\n",
       "        vertical-align: middle;\n",
       "    }\n",
       "\n",
       "    .dataframe tbody tr th {\n",
       "        vertical-align: top;\n",
       "    }\n",
       "\n",
       "    .dataframe thead th {\n",
       "        text-align: right;\n",
       "    }\n",
       "</style>\n",
       "<table border=\"1\" class=\"dataframe\">\n",
       "  <thead>\n",
       "    <tr style=\"text-align: right;\">\n",
       "      <th></th>\n",
       "      <th>CUS_GENDER</th>\n",
       "      <th>COUNT</th>\n",
       "    </tr>\n",
       "  </thead>\n",
       "  <tbody>\n",
       "    <tr>\n",
       "      <th>0</th>\n",
       "      <td>M</td>\n",
       "      <td>1</td>\n",
       "    </tr>\n",
       "    <tr>\n",
       "      <th>1</th>\n",
       "      <td>F</td>\n",
       "      <td>1</td>\n",
       "    </tr>\n",
       "  </tbody>\n",
       "</table>\n",
       "</div>"
      ],
      "text/plain": [
       "  CUS_GENDER  COUNT\n",
       "0          M      1\n",
       "1          F      1"
      ]
     },
     "execution_count": 17,
     "metadata": {},
     "output_type": "execute_result"
    }
   ],
   "source": [
    "groupbyG= \"\"\"select customer.CUS_GENDER, count(customer.CUS_GENDER) as count from customer inner join orders \n",
    "on customer.CUS_ID= orders.CUS_ID where orders.ORD_AMOUNT>=3000 group by customer.CUS_GENDER;\"\"\"\n",
    "\n",
    "cursorVar.execute(groupbyG);\n",
    "fetchedVals= cursorVar.fetchall()\n",
    "\n",
    "outputofDataframe= pd.DataFrame(fetchedVals, columns=['CUS_GENDER', 'COUNT'])\n",
    "\n",
    "outputofDataframe"
   ]
  },
  {
   "cell_type": "markdown",
   "id": "e49e04f5",
   "metadata": {
    "id": "e49e04f5"
   },
   "source": [
    "### Q4) Display all the order along with product name ordered by a customer having Customer_Id=2;"
   ]
  },
  {
   "cell_type": "code",
   "execution_count": 18,
   "id": "9dcb7883",
   "metadata": {
    "id": "9dcb7883"
   },
   "outputs": [
    {
     "data": {
      "text/html": [
       "<div>\n",
       "<style scoped>\n",
       "    .dataframe tbody tr th:only-of-type {\n",
       "        vertical-align: middle;\n",
       "    }\n",
       "\n",
       "    .dataframe tbody tr th {\n",
       "        vertical-align: top;\n",
       "    }\n",
       "\n",
       "    .dataframe thead th {\n",
       "        text-align: right;\n",
       "    }\n",
       "</style>\n",
       "<table border=\"1\" class=\"dataframe\">\n",
       "  <thead>\n",
       "    <tr style=\"text-align: right;\">\n",
       "      <th></th>\n",
       "      <th>OrderId</th>\n",
       "      <th>Order Amount</th>\n",
       "      <th>Order Date</th>\n",
       "      <th>Customer ID</th>\n",
       "      <th>Product ID</th>\n",
       "      <th>Product Name</th>\n",
       "      <th>Product Price</th>\n",
       "    </tr>\n",
       "  </thead>\n",
       "  <tbody>\n",
       "    <tr>\n",
       "      <th>0</th>\n",
       "      <td>50</td>\n",
       "      <td>2000</td>\n",
       "      <td>2021-10-06</td>\n",
       "      <td>2</td>\n",
       "      <td>1</td>\n",
       "      <td>GTA V</td>\n",
       "      <td>1500</td>\n",
       "    </tr>\n",
       "  </tbody>\n",
       "</table>\n",
       "</div>"
      ],
      "text/plain": [
       "   OrderId  Order Amount  Order Date  Customer ID  Product ID Product Name  \\\n",
       "0       50          2000  2021-10-06            2           1        GTA V   \n",
       "\n",
       "   Product Price  \n",
       "0           1500  "
      ]
     },
     "execution_count": 18,
     "metadata": {},
     "output_type": "execute_result"
    }
   ],
   "source": [
    "ordId= \"\"\"select orders.*, product.PRO_NAME, product_details.PROD_PRICE from orders inner join product_details on product_details.PROD_ID=orders.PROD_ID inner join product on product.PRO_ID=orders.PROD_ID where orders.CUS_ID=2\"\"\";\n",
    "cursorVar.execute(ordId);\n",
    "\n",
    "outputId= cursorVar.fetchall();\n",
    "dataframeOutputPD= pd.DataFrame(outputId, columns=[\"OrderId\", \"Order Amount\", \"Order Date\", \"Customer ID\", \"Product ID\", \"Product Name\", \"Product Price\"])\n",
    "dataframeOutputPD"
   ]
  },
  {
   "cell_type": "markdown",
   "id": "3a33398e",
   "metadata": {
    "id": "3a33398e"
   },
   "source": [
    "### Q5) Display the Supplier details who can supply more than one product."
   ]
  },
  {
   "cell_type": "code",
   "execution_count": 19,
   "id": "e933b979",
   "metadata": {
    "id": "e933b979"
   },
   "outputs": [
    {
     "data": {
      "text/html": [
       "<div>\n",
       "<style scoped>\n",
       "    .dataframe tbody tr th:only-of-type {\n",
       "        vertical-align: middle;\n",
       "    }\n",
       "\n",
       "    .dataframe tbody tr th {\n",
       "        vertical-align: top;\n",
       "    }\n",
       "\n",
       "    .dataframe thead th {\n",
       "        text-align: right;\n",
       "    }\n",
       "</style>\n",
       "<table border=\"1\" class=\"dataframe\">\n",
       "  <thead>\n",
       "    <tr style=\"text-align: right;\">\n",
       "      <th></th>\n",
       "      <th>SupplierID</th>\n",
       "      <th>Supplier Name</th>\n",
       "      <th>Supplier City</th>\n",
       "      <th>Supplier Phone</th>\n",
       "    </tr>\n",
       "  </thead>\n",
       "  <tbody>\n",
       "    <tr>\n",
       "      <th>0</th>\n",
       "      <td>1</td>\n",
       "      <td>Rajesh Retails</td>\n",
       "      <td>Delhi</td>\n",
       "      <td>1234567890</td>\n",
       "    </tr>\n",
       "  </tbody>\n",
       "</table>\n",
       "</div>"
      ],
      "text/plain": [
       "   SupplierID   Supplier Name Supplier City Supplier Phone\n",
       "0           1  Rajesh Retails         Delhi     1234567890"
      ]
     },
     "execution_count": 19,
     "metadata": {},
     "output_type": "execute_result"
    }
   ],
   "source": [
    "suppDet=\"\"\"SELECT \n",
    "    supplier.SUPP_ID,\n",
    "    supplier.SUPP_NAME,\n",
    "    supplier.SUPP_CITY,\n",
    "    supplier.SUPP_PHONE\n",
    "    FROM supplier JOIN product_details ON supplier.SUPP_ID = product_details.SUPP_ID \n",
    "    GROUP BY supplier.SUPP_ID HAVING count(supplier.SUPP_ID)>1\"\"\"\n",
    "\n",
    "cursorVar.execute(suppDet);\n",
    "output=cursorVar.fetchall();\n",
    "pdDFOutput=pd.DataFrame(output, columns=(\"SupplierID\",\"Supplier Name\", \"Supplier City\", \"Supplier Phone\"));\n",
    "pdDFOutput\n"
   ]
  },
  {
   "cell_type": "markdown",
   "id": "5fd319ef",
   "metadata": {
    "id": "5fd319ef"
   },
   "source": [
    "### Q6) Find the category of the product whose order amount is minimum."
   ]
  },
  {
   "cell_type": "code",
   "execution_count": 20,
   "id": "06f5cb51",
   "metadata": {
    "id": "06f5cb51"
   },
   "outputs": [
    {
     "data": {
      "text/html": [
       "<div>\n",
       "<style scoped>\n",
       "    .dataframe tbody tr th:only-of-type {\n",
       "        vertical-align: middle;\n",
       "    }\n",
       "\n",
       "    .dataframe tbody tr th {\n",
       "        vertical-align: top;\n",
       "    }\n",
       "\n",
       "    .dataframe thead th {\n",
       "        text-align: right;\n",
       "    }\n",
       "</style>\n",
       "<table border=\"1\" class=\"dataframe\">\n",
       "  <thead>\n",
       "    <tr style=\"text-align: right;\">\n",
       "      <th></th>\n",
       "      <th>Cat ID</th>\n",
       "      <th>Category Name</th>\n",
       "    </tr>\n",
       "  </thead>\n",
       "  <tbody>\n",
       "    <tr>\n",
       "      <th>0</th>\n",
       "      <td>3</td>\n",
       "      <td>GROCERIES</td>\n",
       "    </tr>\n",
       "  </tbody>\n",
       "</table>\n",
       "</div>"
      ],
      "text/plain": [
       "   Cat ID Category Name\n",
       "0       3     GROCERIES"
      ]
     },
     "execution_count": 20,
     "metadata": {},
     "output_type": "execute_result"
    }
   ],
   "source": [
    "minAmt=\"\"\"select category.* FROM `orders` \n",
    "INNER JOIN product_details ON `orders`.prod_id = product_details.prod_id\n",
    "INNER JOIN product ON product.pro_id = product_details.pro_id\n",
    "INNER JOIN category ON category.cat_id = product.cat_id\n",
    "where `orders`.ORD_AMOUNT=(select min(ORD_AMOUNT) from `orders`)\"\"\"\n",
    "cursorVar.execute(minAmt);\n",
    "fetchedData= cursorVar.fetchall();\n",
    "pdMinAmt= pd.DataFrame(fetchedData, columns=[\"Cat ID\", \"Category Name\"])\n",
    "pdMinAmt"
   ]
  },
  {
   "cell_type": "markdown",
   "id": "107102d4",
   "metadata": {
    "id": "107102d4"
   },
   "source": [
    "### Q7) Display the Id and Name of the Product ordered after “2021-10-05”."
   ]
  },
  {
   "cell_type": "code",
   "execution_count": 21,
   "id": "5d3fc7e8",
   "metadata": {
    "id": "5d3fc7e8"
   },
   "outputs": [
    {
     "data": {
      "text/html": [
       "<div>\n",
       "<style scoped>\n",
       "    .dataframe tbody tr th:only-of-type {\n",
       "        vertical-align: middle;\n",
       "    }\n",
       "\n",
       "    .dataframe tbody tr th {\n",
       "        vertical-align: top;\n",
       "    }\n",
       "\n",
       "    .dataframe thead th {\n",
       "        text-align: right;\n",
       "    }\n",
       "</style>\n",
       "<table border=\"1\" class=\"dataframe\">\n",
       "  <thead>\n",
       "    <tr style=\"text-align: right;\">\n",
       "      <th></th>\n",
       "      <th>PROID</th>\n",
       "      <th>PRODUCT NAME</th>\n",
       "    </tr>\n",
       "  </thead>\n",
       "  <tbody>\n",
       "    <tr>\n",
       "      <th>0</th>\n",
       "      <td>4</td>\n",
       "      <td>OATS</td>\n",
       "    </tr>\n",
       "    <tr>\n",
       "      <th>1</th>\n",
       "      <td>1</td>\n",
       "      <td>GTA V</td>\n",
       "    </tr>\n",
       "  </tbody>\n",
       "</table>\n",
       "</div>"
      ],
      "text/plain": [
       "   PROID PRODUCT NAME\n",
       "0      4         OATS\n",
       "1      1        GTA V"
      ]
     },
     "execution_count": 21,
     "metadata": {},
     "output_type": "execute_result"
    }
   ],
   "source": [
    "prdnm=\"\"\"select product.PRO_ID,product.PRO_NAME \n",
    "from `orders` inner join product_details on product_details.PROD_ID=`orders`.PROD_ID \n",
    "inner join product on product.PRO_ID=product_details.PRO_ID where `orders`.ORD_DATE>\"2021-10-05\"; \"\"\"\n",
    "cursorVar.execute(prdnm);\n",
    "fetchedData= cursorVar.fetchall();\n",
    "pdMinAmt= pd.DataFrame(fetchedData, columns=[\"PROID\", \"PRODUCT NAME\"])\n",
    "pdMinAmt"
   ]
  },
  {
   "cell_type": "markdown",
   "id": "bdce7167",
   "metadata": {
    "id": "bdce7167"
   },
   "source": [
    "### Q8) Print the top 3 supplier name and id and rating on the basis of their rating along with the customer name who has given the rating."
   ]
  },
  {
   "cell_type": "code",
   "execution_count": 22,
   "id": "fa0cbe44",
   "metadata": {
    "id": "fa0cbe44"
   },
   "outputs": [
    {
     "data": {
      "text/html": [
       "<div>\n",
       "<style scoped>\n",
       "    .dataframe tbody tr th:only-of-type {\n",
       "        vertical-align: middle;\n",
       "    }\n",
       "\n",
       "    .dataframe tbody tr th {\n",
       "        vertical-align: top;\n",
       "    }\n",
       "\n",
       "    .dataframe thead th {\n",
       "        text-align: right;\n",
       "    }\n",
       "</style>\n",
       "<table border=\"1\" class=\"dataframe\">\n",
       "  <thead>\n",
       "    <tr style=\"text-align: right;\">\n",
       "      <th></th>\n",
       "      <th>SupplierID</th>\n",
       "      <th>Supplier Name</th>\n",
       "      <th>Rating</th>\n",
       "      <th>Customer Name</th>\n",
       "    </tr>\n",
       "  </thead>\n",
       "  <tbody>\n",
       "    <tr>\n",
       "      <th>0</th>\n",
       "      <td>1</td>\n",
       "      <td>Rajesh Retails</td>\n",
       "      <td>5</td>\n",
       "      <td>PULKIT</td>\n",
       "    </tr>\n",
       "    <tr>\n",
       "      <th>1</th>\n",
       "      <td>2</td>\n",
       "      <td>Appario Ltd.</td>\n",
       "      <td>4</td>\n",
       "      <td>AMAN</td>\n",
       "    </tr>\n",
       "    <tr>\n",
       "      <th>2</th>\n",
       "      <td>5</td>\n",
       "      <td>Mittal Ltd.</td>\n",
       "      <td>4</td>\n",
       "      <td>MEGHA</td>\n",
       "    </tr>\n",
       "  </tbody>\n",
       "</table>\n",
       "</div>"
      ],
      "text/plain": [
       "   SupplierID   Supplier Name  Rating Customer Name\n",
       "0           1  Rajesh Retails       5        PULKIT\n",
       "1           2    Appario Ltd.       4          AMAN\n",
       "2           5     Mittal Ltd.       4         MEGHA"
      ]
     },
     "execution_count": 22,
     "metadata": {},
     "output_type": "execute_result"
    }
   ],
   "source": [
    "suppsort=\"\"\"SELECT supplier.SUPP_ID, supplier.SUPP_NAME, rating.RAT_RATSTARS, customer.CUS_NAME\n",
    "FROM rating\n",
    "INNER JOIN supplier ON supplier.SUPP_ID = rating.SUPP_ID\n",
    "INNER JOIN customer ON customer.CUS_ID = rating.CUS_ID\n",
    "ORDER BY rating.RAT_RATSTARS DESC LIMIT 3\"\"\"\n",
    "\n",
    "cursorVar.execute(suppsort);\n",
    "result= cursorVar.fetchall();\n",
    "pdOpt= pd.DataFrame(result, columns=[\"SupplierID\", \"Supplier Name\", \"Rating\", \"Customer Name\"])\n",
    "pdOpt"
   ]
  },
  {
   "cell_type": "markdown",
   "id": "346ec2a1",
   "metadata": {
    "id": "346ec2a1"
   },
   "source": [
    "### Q9) Display customer name and gender whose names start or end with character 'A'."
   ]
  },
  {
   "cell_type": "code",
   "execution_count": 23,
   "id": "4dd85d57-2266-454c-a248-4a3961897486",
   "metadata": {},
   "outputs": [
    {
     "data": {
      "text/html": [
       "<div>\n",
       "<style scoped>\n",
       "    .dataframe tbody tr th:only-of-type {\n",
       "        vertical-align: middle;\n",
       "    }\n",
       "\n",
       "    .dataframe tbody tr th {\n",
       "        vertical-align: top;\n",
       "    }\n",
       "\n",
       "    .dataframe thead th {\n",
       "        text-align: right;\n",
       "    }\n",
       "</style>\n",
       "<table border=\"1\" class=\"dataframe\">\n",
       "  <thead>\n",
       "    <tr style=\"text-align: right;\">\n",
       "      <th></th>\n",
       "      <th>CustomerName</th>\n",
       "      <th>Gender</th>\n",
       "    </tr>\n",
       "  </thead>\n",
       "  <tbody>\n",
       "    <tr>\n",
       "      <th>0</th>\n",
       "      <td>AAKASH</td>\n",
       "      <td>M</td>\n",
       "    </tr>\n",
       "    <tr>\n",
       "      <th>1</th>\n",
       "      <td>AMAN</td>\n",
       "      <td>M</td>\n",
       "    </tr>\n",
       "    <tr>\n",
       "      <th>2</th>\n",
       "      <td>NEHA</td>\n",
       "      <td>F</td>\n",
       "    </tr>\n",
       "    <tr>\n",
       "      <th>3</th>\n",
       "      <td>MEGHA</td>\n",
       "      <td>F</td>\n",
       "    </tr>\n",
       "  </tbody>\n",
       "</table>\n",
       "</div>"
      ],
      "text/plain": [
       "  CustomerName Gender\n",
       "0       AAKASH      M\n",
       "1         AMAN      M\n",
       "2         NEHA      F\n",
       "3        MEGHA      F"
      ]
     },
     "execution_count": 23,
     "metadata": {},
     "output_type": "execute_result"
    }
   ],
   "source": [
    "nameGendA = \"\"\"select customer.CUS_NAME, customer.CUS_GENDER \n",
    "from customer \n",
    "where customer.CUS_NAME like \"%a\" or customer.CUS_NAME like \"a%\"; \"\"\"\n",
    "\n",
    "cursorVar.execute(nameGendA);\n",
    "resultz=cursorVar.fetchall();\n",
    "PDopt= pd.DataFrame(resultz, columns=[\"CustomerName\", \"Gender\"]);\n",
    "PDopt"
   ]
  },
  {
   "cell_type": "markdown",
   "id": "d0b01f77",
   "metadata": {
    "id": "d0b01f77"
   },
   "source": [
    "### Q10) Display the total order amount of the male customers."
   ]
  },
  {
   "cell_type": "code",
   "execution_count": 24,
   "id": "c3fa76e3",
   "metadata": {
    "id": "c3fa76e3"
   },
   "outputs": [
    {
     "data": {
      "text/html": [
       "<div>\n",
       "<style scoped>\n",
       "    .dataframe tbody tr th:only-of-type {\n",
       "        vertical-align: middle;\n",
       "    }\n",
       "\n",
       "    .dataframe tbody tr th {\n",
       "        vertical-align: top;\n",
       "    }\n",
       "\n",
       "    .dataframe thead th {\n",
       "        text-align: right;\n",
       "    }\n",
       "</style>\n",
       "<table border=\"1\" class=\"dataframe\">\n",
       "  <thead>\n",
       "    <tr style=\"text-align: right;\">\n",
       "      <th></th>\n",
       "      <th>Total Amount</th>\n",
       "    </tr>\n",
       "  </thead>\n",
       "  <tbody>\n",
       "    <tr>\n",
       "      <th>0</th>\n",
       "      <td>34500</td>\n",
       "    </tr>\n",
       "  </tbody>\n",
       "</table>\n",
       "</div>"
      ],
      "text/plain": [
       "  Total Amount\n",
       "0        34500"
      ]
     },
     "execution_count": 24,
     "metadata": {},
     "output_type": "execute_result"
    }
   ],
   "source": [
    "amt= \"\"\"select sum(orders.ORD_AMOUNT) as Amount \n",
    "from orders\n",
    "inner join customer on orders.CUS_ID=customer.CUS_ID \n",
    "where customer.CUS_GENDER=\"M\";\"\"\"\n",
    "\n",
    "cursorVar.execute(amt);\n",
    "resultFetched= cursorVar.fetchall();\n",
    "pdConv= pd.DataFrame(resultFetched, columns=[\"Total Amount\"]);\n",
    "pdConv"
   ]
  },
  {
   "cell_type": "markdown",
   "id": "ff8a9971",
   "metadata": {
    "id": "ff8a9971"
   },
   "source": [
    "### Q11) Display all the Customers left outer join with  the orders"
   ]
  },
  {
   "cell_type": "code",
   "execution_count": 25,
   "id": "a340c6d6",
   "metadata": {
    "id": "a340c6d6"
   },
   "outputs": [
    {
     "data": {
      "text/html": [
       "<div>\n",
       "<style scoped>\n",
       "    .dataframe tbody tr th:only-of-type {\n",
       "        vertical-align: middle;\n",
       "    }\n",
       "\n",
       "    .dataframe tbody tr th {\n",
       "        vertical-align: top;\n",
       "    }\n",
       "\n",
       "    .dataframe thead th {\n",
       "        text-align: right;\n",
       "    }\n",
       "</style>\n",
       "<table border=\"1\" class=\"dataframe\">\n",
       "  <thead>\n",
       "    <tr style=\"text-align: right;\">\n",
       "      <th></th>\n",
       "      <th>Customer ID</th>\n",
       "      <th>Customer Name</th>\n",
       "      <th>CUstomer Phone</th>\n",
       "      <th>Customer City</th>\n",
       "      <th>Customer Gender</th>\n",
       "      <th>ordID</th>\n",
       "      <th>ordAmt</th>\n",
       "      <th>ordDate</th>\n",
       "      <th>CusId</th>\n",
       "      <th>ProdID</th>\n",
       "    </tr>\n",
       "  </thead>\n",
       "  <tbody>\n",
       "    <tr>\n",
       "      <th>0</th>\n",
       "      <td>1</td>\n",
       "      <td>AAKASH</td>\n",
       "      <td>9999999999</td>\n",
       "      <td>DELHI</td>\n",
       "      <td>M</td>\n",
       "      <td>26</td>\n",
       "      <td>2000</td>\n",
       "      <td>2021-10-05</td>\n",
       "      <td>1</td>\n",
       "      <td>1</td>\n",
       "    </tr>\n",
       "    <tr>\n",
       "      <th>1</th>\n",
       "      <td>2</td>\n",
       "      <td>AMAN</td>\n",
       "      <td>9785463215</td>\n",
       "      <td>NOIDA</td>\n",
       "      <td>M</td>\n",
       "      <td>50</td>\n",
       "      <td>2000</td>\n",
       "      <td>2021-10-06</td>\n",
       "      <td>2</td>\n",
       "      <td>1</td>\n",
       "    </tr>\n",
       "    <tr>\n",
       "      <th>2</th>\n",
       "      <td>3</td>\n",
       "      <td>NEHA</td>\n",
       "      <td>9999999999</td>\n",
       "      <td>MUMBAI</td>\n",
       "      <td>F</td>\n",
       "      <td>20</td>\n",
       "      <td>1500</td>\n",
       "      <td>2021-10-12</td>\n",
       "      <td>3</td>\n",
       "      <td>5</td>\n",
       "    </tr>\n",
       "    <tr>\n",
       "      <th>3</th>\n",
       "      <td>4</td>\n",
       "      <td>MEGHA</td>\n",
       "      <td>9994562399</td>\n",
       "      <td>KOLKATA</td>\n",
       "      <td>F</td>\n",
       "      <td>30</td>\n",
       "      <td>3500</td>\n",
       "      <td>2021-08-16</td>\n",
       "      <td>4</td>\n",
       "      <td>3</td>\n",
       "    </tr>\n",
       "    <tr>\n",
       "      <th>4</th>\n",
       "      <td>5</td>\n",
       "      <td>PULKIT</td>\n",
       "      <td>7895999999</td>\n",
       "      <td>LUCKNOW</td>\n",
       "      <td>M</td>\n",
       "      <td>25</td>\n",
       "      <td>30500</td>\n",
       "      <td>2021-09-16</td>\n",
       "      <td>5</td>\n",
       "      <td>2</td>\n",
       "    </tr>\n",
       "  </tbody>\n",
       "</table>\n",
       "</div>"
      ],
      "text/plain": [
       "   Customer ID Customer Name CUstomer Phone Customer City Customer Gender  \\\n",
       "0            1        AAKASH     9999999999         DELHI               M   \n",
       "1            2          AMAN     9785463215         NOIDA               M   \n",
       "2            3          NEHA     9999999999        MUMBAI               F   \n",
       "3            4         MEGHA     9994562399       KOLKATA               F   \n",
       "4            5        PULKIT     7895999999       LUCKNOW               M   \n",
       "\n",
       "   ordID  ordAmt     ordDate  CusId  ProdID  \n",
       "0     26    2000  2021-10-05      1       1  \n",
       "1     50    2000  2021-10-06      2       1  \n",
       "2     20    1500  2021-10-12      3       5  \n",
       "3     30    3500  2021-08-16      4       3  \n",
       "4     25   30500  2021-09-16      5       2  "
      ]
     },
     "execution_count": 25,
     "metadata": {},
     "output_type": "execute_result"
    }
   ],
   "source": [
    "leftJoinallCus=\"\"\"select *\n",
    "from customer \n",
    "left outer join `orders` on customer.CUS_ID= `orders`.CUS_ID\"\"\"\n",
    "\n",
    "cursorVar.execute(leftJoinallCus);\n",
    "outJoinRes=cursorVar.fetchall();\n",
    "pdOpt= pd.DataFrame(outJoinRes, columns=[\"Customer ID\",\"Customer Name\", \"CUstomer Phone\", \"Customer City\", \"Customer Gender\", \"ordID\",\"ordAmt\",\"ordDate\",\"CusId\",\"ProdID\"]);\n",
    "pdOpt"
   ]
  },
  {
   "cell_type": "code",
   "execution_count": 26,
   "id": "bd080a51-0d0d-45ca-bdb7-2eac750499dd",
   "metadata": {},
   "outputs": [],
   "source": [
    "cursorVar.close()\n",
    "remoteVar.close()"
   ]
  },
  {
   "cell_type": "markdown",
   "id": "0a72afe3",
   "metadata": {
    "id": "0a72afe3"
   },
   "source": [
    "**NOTE:** Always close an open connection once you are done with the database operations"
   ]
  },
  {
   "cell_type": "markdown",
   "id": "8c88f479",
   "metadata": {
    "id": "8c88f479"
   },
   "source": [
    "## Happy Learning:)"
   ]
  }
 ],
 "metadata": {
  "colab": {
   "provenance": []
  },
  "kernelspec": {
   "display_name": "Python 3 (ipykernel)",
   "language": "python",
   "name": "python3"
  },
  "language_info": {
   "codemirror_mode": {
    "name": "ipython",
    "version": 3
   },
   "file_extension": ".py",
   "mimetype": "text/x-python",
   "name": "python",
   "nbconvert_exporter": "python",
   "pygments_lexer": "ipython3",
   "version": "3.11.7"
  }
 },
 "nbformat": 4,
 "nbformat_minor": 5
}
